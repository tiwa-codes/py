{
 "cells": [
  {
   "attachments": {},
   "cell_type": "markdown",
   "metadata": {},
   "source": [
    "**1. Create a variable called break and assign it a value 5. See what happens and find out the reason behind the behavior that you see**"
   ]
  },
  {
   "cell_type": "code",
   "execution_count": 4,
   "metadata": {
    "scrolled": true
   },
   "outputs": [],
   "source": [
    "#because break is a function in python and it can;t be used to create a variable in python, instead we can abbreviate it to brk and print it.\n",
    "brk = 5"
   ]
  },
  {
   "attachments": {},
   "cell_type": "markdown",
   "metadata": {},
   "source": [
    "**2. Create two variables. One to store your birth year and another one to store current year. Now calculate your age using these two variables**"
   ]
  },
  {
   "cell_type": "code",
   "execution_count": 5,
   "metadata": {
    "scrolled": true
   },
   "outputs": [
    {
     "data": {
      "text/plain": [
       "23"
      ]
     },
     "execution_count": 5,
     "metadata": {},
     "output_type": "execute_result"
    }
   ],
   "source": [
    "birth_year=2000\n",
    "current_year=2023\n",
    "age=current_year-birth_year\n",
    "age"
   ]
  },
  {
   "attachments": {},
   "cell_type": "markdown",
   "metadata": {},
   "source": [
    "**3. Store your first, middle and last name in three different variables and then print your full name using these variables**"
   ]
  },
  {
   "cell_type": "code",
   "execution_count": 6,
   "metadata": {},
   "outputs": [
    {
     "name": "stdout",
     "output_type": "stream",
     "text": [
      "My full name is: Tiwalola Bisola Afolabi\n"
     ]
    }
   ],
   "source": [
    "first=\"Tiwalola\"\n",
    "middle=\"Bisola\"\n",
    "last=\"Afolabi\"\n",
    "print(\"My full name is: \" + first + \" \" + middle + \" \" + last)"
   ]
  },
  {
   "attachments": {},
   "cell_type": "markdown",
   "metadata": {},
   "source": [
    "**4. Answer which of these are invalid variable names: \"\\_nation, 1record, record1, record\\_one, record-one, record^one, continue\"**"
   ]
  },
  {
   "attachments": {},
   "cell_type": "markdown",
   "metadata": {},
   "source": [
    "1record, record-one, record^one, continue"
   ]
  },
  {
   "cell_type": "code",
   "execution_count": 12,
   "metadata": {},
   "outputs": [],
   "source": [
    "#1record, record-one, record^one, continue are invalid variables\n",
    "_nation = 200\n",
    "record1 = 300\n",
    "record_one = 400"
   ]
  }
 ],
 "metadata": {
  "kernelspec": {
   "display_name": "Python 3",
   "language": "python",
   "name": "python3"
  },
  "language_info": {
   "codemirror_mode": {
    "name": "ipython",
    "version": 3
   },
   "file_extension": ".py",
   "mimetype": "text/x-python",
   "name": "python",
   "nbconvert_exporter": "python",
   "pygments_lexer": "ipython3",
   "version": "3.10.5"
  }
 },
 "nbformat": 4,
 "nbformat_minor": 2
}
